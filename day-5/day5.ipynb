{
 "cells": [
  {
   "cell_type": "markdown",
   "metadata": {},
   "source": [
    "# Async in Python\n",
    "\n",
    "Types of Intensive Tasks:\n",
    "- CPU - calculations, searching etc..\n",
    "- IO - socket calls (files, calling and api)"
   ]
  },
  {
   "cell_type": "markdown",
   "metadata": {},
   "source": [
    "## Threads"
   ]
  },
  {
   "cell_type": "code",
   "execution_count": 4,
   "metadata": {},
   "outputs": [],
   "source": [
    "import requests"
   ]
  },
  {
   "cell_type": "code",
   "execution_count": 3,
   "metadata": {},
   "outputs": [
    {
     "name": "stdout",
     "output_type": "stream",
     "text": [
      "https://google.com -> <!doctype html><html dir=\"rtl\" itemscope=\"\n",
      "\n"
     ]
    },
    {
     "data": {
      "text/plain": [
       "'<!doctype html><html dir=\"rtl\" itemscope=\"'"
      ]
     },
     "execution_count": 3,
     "metadata": {},
     "output_type": "execute_result"
    }
   ],
   "source": [
    "def get_page(url):\n",
    "    resp = requests.get(url)\n",
    "    res = resp.text[:42]\n",
    "\n",
    "    print(url, '->', res, end='\\n\\n')\n",
    "    return res\n",
    "get_page('https://google.com')"
   ]
  },
  {
   "cell_type": "code",
   "execution_count": 24,
   "metadata": {},
   "outputs": [
    {
     "name": "stdout",
     "output_type": "stream",
     "text": [
      "<!doctype html><html dir=\"rtl\" itemscope=\"\n",
      "\n",
      "<!doctype html><html id=atomic class=\"ltr \n",
      "\n",
      "<!doctype html><html lang=\"he\" dir=\"rtl\"><\n",
      "\n"
     ]
    }
   ],
   "source": [
    "urls = [\n",
    "    'https://google.com',\n",
    "    'https://yahoo.com',\n",
    "    'https://bing.com'\n",
    "]\n",
    "\n",
    "for url in urls:\n",
    "    get_page(url)"
   ]
  },
  {
   "cell_type": "markdown",
   "metadata": {},
   "source": [
    "Multiple threads example"
   ]
  },
  {
   "cell_type": "code",
   "execution_count": 34,
   "metadata": {},
   "outputs": [
    {
     "name": "stdout",
     "output_type": "stream",
     "text": [
      "started\n",
      "https://bing.com -> <!doctype html><html lang=\"he\" dir=\"rtl\"><\n",
      "\n",
      "https://google.com -> <!doctype html><html dir=\"rtl\" itemscope=\"\n",
      "\n",
      "https://yahoo.com -> <!doctype html><html id=atomic class=\"ltr \n",
      "\n",
      "done\n"
     ]
    }
   ],
   "source": [
    "import threading\n",
    "\n",
    "threads = []\n",
    "for url in urls:\n",
    "    t = threading.Thread(target=get_page, args=(url, ), daemon=True)\n",
    "    t.start()\n",
    "    threads.append(t)\n",
    "\n",
    "print('started')\n",
    "for t in threads:\n",
    "    t.join()  # join is a blocking action, therefore only run it once all threads have been defined\n",
    "print('done')"
   ]
  },
  {
   "cell_type": "markdown",
   "metadata": {},
   "source": [
    "Problem - the functions print the result but the return value is not stored in the main thread.  \n",
    "Solution - use a Queue (or similar DS)"
   ]
  },
  {
   "cell_type": "markdown",
   "metadata": {},
   "source": [
    "### Queue"
   ]
  },
  {
   "cell_type": "code",
   "execution_count": 44,
   "metadata": {},
   "outputs": [
    {
     "name": "stdout",
     "output_type": "stream",
     "text": [
      "<!doctype html><html lang=\"he\" dir=\"rtl\"><\n",
      "<!doctype html><html dir=\"rtl\" itemscope=\"\n",
      "<!doctype html><html id=atomic class=\"ltr \n"
     ]
    }
   ],
   "source": [
    "from queue import Queue\n",
    "import threading\n",
    "\n",
    "urls = [\n",
    "    'https://google.com',\n",
    "    'https://yahoo.com',\n",
    "    'https://bing.com'\n",
    "]\n",
    "\n",
    "def get_page_store(url, q):\n",
    "    resp = requests.get(url)\n",
    "    res = resp.text[:42]\n",
    "    q.put(res)\n",
    "\n",
    "q = Queue()\n",
    "fetch_threads = []\n",
    "\n",
    "for url in urls:\n",
    "    t = threading.Thread(\n",
    "        target=get_page_store,\n",
    "        args=(url, q),\n",
    "        daemon=True)\n",
    "    t.start()\n",
    "    fetch_threads.append(t)\n",
    "\n",
    "for t in fetch_threads:\n",
    "    t.join()\n",
    "\n",
    "while not q.empty():\n",
    "    print(q.get())"
   ]
  },
  {
   "cell_type": "markdown",
   "metadata": {},
   "source": [
    "### Thread Object"
   ]
  },
  {
   "cell_type": "code",
   "execution_count": 45,
   "metadata": {},
   "outputs": [
    {
     "name": "stdout",
     "output_type": "stream",
     "text": [
      "<!doctype html><html lang=\"he\" dir=\"rtl\"><\n",
      "<!doctype html><html dir=\"rtl\" itemscope=\"\n",
      "<!doctype html><html id=atomic class=\"ltr \n"
     ]
    }
   ],
   "source": [
    "class Fetcher(threading.Thread):\n",
    "    def __init__(self, url, q):\n",
    "        super().__init__()\n",
    "        self.url = url\n",
    "        self.q = q\n",
    "    \n",
    "    def run(self):  # define a run method\n",
    "        resp = requests.get(self.url)\n",
    "        result = resp.text[:42]\n",
    "        self.q.put(result)\n",
    "\n",
    "urls = [\n",
    "    'https://google.com',\n",
    "    'https://yahoo.com',\n",
    "    'https://bing.com'\n",
    "]\n",
    "\n",
    "q = Queue()\n",
    "fetch_threads = []\n",
    "\n",
    "for url in urls:\n",
    "    t = Fetcher(url, q)\n",
    "    t.start()\n",
    "    fetch_threads.append(t)\n",
    "\n",
    "for t in fetch_threads:\n",
    "    t.join()\n",
    "\n",
    "while not q.empty():\n",
    "    print(q.get())"
   ]
  },
  {
   "cell_type": "markdown",
   "metadata": {},
   "source": [
    "### Producer-Consumer Pattern with Threads"
   ]
  },
  {
   "cell_type": "code",
   "execution_count": 46,
   "metadata": {},
   "outputs": [],
   "source": [
    "# Create a Producer which fetches an HTML page and push to Q the links\n",
    "# Create a Consumer to get pushed link from the Q and get the page and get the first few bytes from the page"
   ]
  },
  {
   "cell_type": "code",
   "execution_count": 5,
   "metadata": {},
   "outputs": [
    {
     "name": "stdout",
     "output_type": "stream",
     "text": [
      "producing\n",
      "Producer Thread-13 Done\n"
     ]
    },
    {
     "name": "stderr",
     "output_type": "stream",
     "text": [
      "Exception in thread Thread-11:\n",
      "Traceback (most recent call last):\n",
      "  File \"C:\\Python\\Python310\\lib\\threading.py\", line 1016, in _bootstrap_inner\n",
      "    self.run()\n",
      "  File \"C:\\Users\\jbt\\AppData\\Local\\Temp\\ipykernel_10380\\3527240679.py\", line 24, in run\n",
      "NameError: name 'l' is not defined\n",
      "Exception in thread Thread-12:\n",
      "Traceback (most recent call last):\n",
      "  File \"C:\\Python\\Python310\\lib\\threading.py\", line 1016, in _bootstrap_inner\n",
      "    self.run()\n",
      "  File \"C:\\Users\\jbt\\AppData\\Local\\Temp\\ipykernel_10380\\3527240679.py\", line 24, in run\n",
      "NameError: name 'l' is not defined\n"
     ]
    },
    {
     "name": "stdout",
     "output_type": "stream",
     "text": [
      "producing None\n",
      "consuming\n"
     ]
    }
   ],
   "source": [
    "# TODO: Fix the Bug\n",
    "import requests\n",
    "import threading\n",
    "from queue import Queue\n",
    "from bs4 import BeautifulSoup\n",
    "\n",
    "\n",
    "def generate_links(url):\n",
    "    resp = requests.get(url)\n",
    "    soup = BeautifulSoup(resp.text)\n",
    "    for link in soup.findAll('a'):\n",
    "        l = link.get('href')\n",
    "        if l is not None and l.startswith('http'):\n",
    "            yield l\n",
    "\n",
    "class FetchProducer(threading.Thread):\n",
    "    \n",
    "    def __init__(self, name, url, q):\n",
    "        super().__init__()\n",
    "        self.url = url\n",
    "        self.q = q\n",
    "\n",
    "    def run(self):  # define a run method\n",
    "        for link in generate_links(self.url):\n",
    "            print(f'Producer {self.name} putting...{l[:40]}')\n",
    "            self.q.put(link)  \n",
    "        print(f'Producer {self.name} Done')\n",
    "\n",
    "class FetchConsumer(threading.Thread):\n",
    "    def __init__(self, name, qin, qout):\n",
    "        super().__init__()\n",
    "        self.url = url\n",
    "        self.qin = qout\n",
    "        self.name = name\n",
    "\n",
    "    def run(self):\n",
    "\n",
    "        while True:\n",
    "            link = self.qin.get()\n",
    "            print(f'getting...{link}')\n",
    "            if link is None:\n",
    "                print('consumer done')\n",
    "                break\n",
    "            resp = requests.get(link)\n",
    "            print(f'{self.name} consuming...')\n",
    "            self.qout.put(resp.text[:42])\n",
    "        \n",
    "\n",
    "qin = Queue()\n",
    "qout = Queue()\n",
    "\n",
    "urls = [\n",
    "    'https://google.com',\n",
    "    'https://yahoo.com',\n",
    "    'https://bing.com'\n",
    "]\n",
    "\n",
    "_NUM_OF_CONSUMERS = 5\n",
    "producers = []\n",
    "consumers = []\n",
    "\n",
    "\n",
    "for i, url in enumerate(urls):\n",
    "    p = FetchProducer(f'p{i}',url, qin)\n",
    "    p.start()\n",
    "    producers.append(p)\n",
    "\n",
    "for i, _ in enumerate(range(_NUM_OF_CONSUMERS)):\n",
    "    c = FetchConsumer(f'c{i}', qin, qout)\n",
    "    c.start()\n",
    "    consumers.append(c)\n",
    "\n",
    "print('producing')\n",
    "for p in producers:\n",
    "    p.join()\n",
    "\n",
    "print('producing None')\n",
    "for i in range(_NUM_OF_CONSUMERS):\n",
    "    qin.put(None)\n",
    "\n",
    "print('consuming')\n",
    "for c in consumers:\n",
    "    c.join()\n",
    "\n",
    "print('printing qout')\n",
    "while not qout.empty():\n",
    "    print(qout.get())\n",
    "\n",
    "print('done')\n",
    "\n"
   ]
  },
  {
   "cell_type": "code",
   "execution_count": 1,
   "metadata": {},
   "outputs": [
    {
     "name": "stdout",
     "output_type": "stream",
     "text": [
      "p3 adding https://www.msn.com/?ocid=BHEA000 to queue\n",
      "p3 adding https://www.takelessons.com/?utm_source=bi to queue\n",
      "p3 adding https://www.office.com?WT.mc_id=O16_BingHP to queue\n",
      "p3 adding https://outlook.com/?WT.mc_id=O16_BingHP to queue\n",
      "p3 adding https://office.live.com/start/Word.aspx?WT to queue\n",
      "p3 adding https://office.live.com/start/Excel.aspx?W to queue\n",
      "p3 adding https://office.live.com/start/PowerPoint.a to queue\n",
      "p3 adding https://www.onenote.com/notebooks?WT.mc_id to queue\n",
      "p3 adding https://sway.office.com?WT.mc_id=O16_BingH to queue\n",
      "p3 adding https://onedrive.live.com/?gologin=1&WT.mc to queue\n",
      "p3 adding https://calendar.live.com/?WT.mc_id=O16_Bi to queue\n",
      "p3 adding https://outlook.live.com/owa/?path=/people to queue\n",
      "p3 Producer done\n",
      "p1 adding https://www.google.co.il/imghp?hl=iw&tab=w to queue\n",
      "p1 adding https://maps.google.co.il/maps?hl=iw&tab=w to queue\n",
      "p1 adding https://play.google.com/?hl=iw&tab=w8 to queue\n",
      "p1 adding https://www.youtube.com/?tab=w1 to queue\n",
      "p1 adding https://news.google.com/?tab=wn to queue\n",
      "p1 adding https://mail.google.com/mail/?tab=wm to queue\n",
      "p1 adding https://drive.google.com/?tab=wo to queue\n",
      "p1 adding https://www.google.co.il/intl/iw/about/pro to queue\n",
      "p1 adding http://www.google.co.il/history/optout?hl= to queue\n",
      "p1 adding https://accounts.google.com/ServiceLogin?h to queue\n",
      "p1 adding https://www.google.com/setprefs?sig=0_Ktu3 to queue\n",
      "p1 adding https://www.google.com/setprefs?sig=0_Ktu3 to queue\n",
      "p1 adding http://www.google.co.il/intl/iw/services/ to queue\n",
      "p1 adding https://www.google.com/setprefdomain?prefd to queue\n",
      "p1 Producer done\n",
      "c1 0.4206051826477051 '<?xml version=\"1.0\" encoding=\"UTF-8\" ?>\\r\\n<'\n",
      "c4 0.4255971908569336 '<!DOCTYPE html><html><head><meta http-equi'\n",
      "c5 0.5846352577209473 '\\r\\n<!DOCTYPE html>\\r\\n\\r\\n<html dir=\"ltr\" lang='\n",
      "c1 0.6772072315216064 '<!DOCTYPE html><html><head><meta http-equi'\n",
      "c4 0.680206298828125 '<!DOCTYPE html><html><head><meta http-equi'\n",
      "c4 0.9682254791259766 '\\r\\n<html>\\r\\n    <head>\\r\\n        <title>Micro'\n",
      "p2 adding https://www.yahoo.com/ to queue\n",
      "p2 adding https://mail.yahoo.com/ to queue\n",
      "p2 adding https://news.yahoo.com/ to queue\n",
      "p2 adding https://finance.yahoo.com/ to queue\n",
      "p2 adding https://sports.yahoo.com/ to queue\n",
      "p2 adding https://www.yahoo.com/entertainment/ to queue\n",
      "p2 adding https://www.yahoo.com/lifestyle to queue\n",
      "p2 adding https://search.yahoo.com/search/ to queue\n",
      "p2 adding https://shopping.yahoo.com/ to queue\n",
      "p2 adding https://www.yahoo.com/plus to queue\n",
      "p2 adding https://www.yahoo.com/everything/ to queue\n",
      "p2 adding https://mobile.yahoo.com/yahoo to queue\n",
      "p2 adding https://www.yahoo.com/ to queue\n",
      "p2 adding https://login.yahoo.com/?.lang=en-US&src=h to queue\n",
      "p2 adding https://mail.yahoo.com/ to queue\n",
      "p2 adding https://mail.yahoo.com/ to queue\n",
      "p2 adding https://mail.yahoo.com/ to queue\n",
      "p2 adding https://news.yahoo.com/ to queue\n",
      "p2 adding https://finance.yahoo.com/ to queue\n",
      "p2 adding https://sports.yahoo.com/ to queue\n",
      "p2 adding https://www.yahoo.com/entertainment/ to queue\n",
      "p2 adding https://www.yahoo.com/lifestyle/ to queue\n",
      "p2 adding https://news.yahoo.com/coronavirus to queue\n",
      "p2 adding https://shopping.yahoo.com/ to queue\n",
      "p2 adding https://shopping.yahoo.com/sales/subscript to queue\n",
      "p2 adding https://www.yahoo.com/plus?ncid=mbr_ryhacq to queue\n",
      "p2 adding https://www.yahoo.com/everything/ to queue\n",
      "p2 adding https://news.yahoo.com/queen-funeral-watch to queue\n",
      "p2 adding http://www.yahoo.com/?page=2 to queue\n",
      "p2 adding https://search.yahoo.com/search?p=Pat+Saja to queue\n",
      "p2 adding https://search.yahoo.com/search?p=Mike+Far to queue\n",
      "p2 adding https://search.yahoo.com/search?p=Tom+Brad to queue\n",
      "p2 adding https://search.yahoo.com/search?p=Bbc+Live to queue\n",
      "p2 adding https://search.yahoo.com/search?p=Credit+R to queue\n",
      "p2 adding https://search.yahoo.com/search?p=Brittany to queue\n",
      "p2 adding https://search.yahoo.com/search?p=2022+Inf to queue\n",
      "p2 adding https://search.yahoo.com/search?p=Phones+f to queue\n",
      "p2 adding https://search.yahoo.com/search?p=Los+Ange to queue\n",
      "p2 adding https://search.yahoo.com/search?p=Cara+Del to queue\n",
      "p2 adding https://www.yahoo.com/news/weather/forecas to queue\n",
      "p2 adding https://login.yahoo.com/account/preference to queue\n",
      "p2 adding https://www.yahoo.com/news/weather/forecas to queue\n",
      "p2 adding https://sports.yahoo.com/nfl/chicago-bears to queue\n",
      "p2 adding https://sports.yahoo.com/mlb/los-angeles-d to queue\n",
      "p2 adding https://sports.yahoo.com/mlb/minnesota-twi to queue\n",
      "p2 adding https://sports.yahoo.com to queue\n",
      "p2 Producer done\n",
      "c5 1.1290373802185059 '\\r\\n\\r\\n\\r\\n\\r\\n<!DOCTYPE html>\\r\\n<html lang=\"en-US'\n",
      "c1 1.2279636859893799 '\\ufeff<!DOCTYPE html><html lang=en-US><head><no'\n",
      "c5 1.4493324756622314 '<!doctype html> <html dir=\"ltr\" lang=\"en\">'\n",
      "c1 1.6378238201141357 '<!doctype html><html dir=\"rtl\" itemscope=\"'\n",
      "c4 1.6590826511383057 '<!doctype html> <html dir=\"ltr\" lang=\"en\">'\n",
      "c2 1.9749171733856201 '<!doctype html> <html dir=\"ltr\" lang=\"en\">'\n",
      "c4 2.209120512008667 '<!DOCTYPE html><html style=\"font-size: 10p'\n",
      "c3 2.4719321727752686 '<!DOCTYPE html><html lang=\"en\"><head><meta'\n",
      "c1 2.7368104457855225 '<!doctype html><html lang=\"iw\" dir=\"rtl\"><'\n",
      "c2 2.8664519786834717 '<!doctype html><html lang=\"en-GB\" dir=\"ltr'\n",
      "c4 3.1354873180389404 '<!doctype html><html lang=\"en-US\" dir=\"ltr'\n",
      "c3 3.3516359329223633 '<!doctype html><html lang=\"en-US\" dir=\"ltr'\n",
      "c2 3.628105878829956 '<!doctype html><html lang=\"iw\" dir=\"rtl\"><'\n",
      "c4 3.7140140533447266 '<!doctype html><html lang=\"iw\" dir=\"rtl\"><'\n",
      "c1 3.799206495285034 '\\n\\n<!DOCTYPE html>\\n\\n\\n<html lang=\"en\" dir=\"l'\n",
      "c3 4.039280652999878 '<!doctype html><html dir=\"rtl\" lang=\"ar-IL'\n",
      "c5 4.1620166301727295 '<!DOCTYPE html><html dir=\"rtl\" itemscope=\"'\n",
      "c4 4.31912088394165 '<!DOCTYPE html>\\n<html class=\"google mmfb\" '\n",
      "c2 4.325075387954712 '<!doctype html><html lang=\"en-IL\"><head><m'\n",
      "c1 4.49159049987793 '<!doctype html><html dir=\"rtl\" itemscope=\"'\n",
      "c5 4.8825438022613525 '<!DOCTYPE html>\\n<html id=\"Stencil\" class=\"'\n",
      "c3 4.9082489013671875 '<!doctype html><html id=atomic class=\"ltr '\n",
      "c5 5.5043275356292725 '<!doctype html><html id=atomic class=\"Fz(6'\n",
      "c4 5.579761981964111 '<!DOCTYPE html><html id=\"atomic\" class=\"No'\n",
      "c3 5.608933448791504 '<!doctype html><html id=atomic class=\"Fz(6'\n",
      "c2 5.960707187652588 '<!DOCTYPE html><html data-color-theme=\"lig'\n",
      "c3 6.004083633422852 '<!DOCTYPE html>\\n<html lang=\"en-US\">\\n<head>'\n",
      "c1 6.250174045562744 '<!DOCTYPE html><html id=\"atomic\" class=\"No'\n",
      "c5 6.463566780090332 '<!doctype html><html lang=\"en-US\"><head><m'\n",
      "c2 6.522298812866211 '<!DOCTYPE html><html id=\"atomic\" class=\"No'\n",
      "c3 6.539530515670776 \"<html>\\n<meta charset='utf-8'>\\n<script>\\nvar\"\n",
      "c4 6.750763416290283 '<!DOCTYPE html><html lang=\"en-US\" id=\"atom'\n",
      "c5 6.903132200241089 '<!DOCTYPE html>\\n<html id=\"Stencil\" class=\"'\n",
      "c1 7.2038280963897705 '<!doctype html><html id=atomic class=\"ltr '\n",
      "c2 7.277960300445557 '<!DOCTYPE html>\\n<html id=\"Stencil\" class=\"'\n",
      "c3 7.373603820800781 '<!DOCTYPE html>\\n<html id=\"Stencil\" class=\"'\n",
      "c4 7.582204341888428 '<!DOCTYPE html>\\n<html id=\"Stencil\" class=\"'\n",
      "c5 7.929072856903076 '<!DOCTYPE html><html id=\"atomic\" class=\"No'\n",
      "c3 7.9980738162994385 '<!doctype html><html id=atomic class=\"Fz(6'\n",
      "c4 8.278282165527344 '<!doctype html><html id=atomic class=\"Fz(6'\n",
      "c1 8.352846622467041 '<!DOCTYPE html><html data-color-theme=\"lig'\n",
      "c5 8.548606157302856 '<!doctype html><html id=atomic class=\"Fz(6'\n",
      "c1 8.794321775436401 '<!DOCTYPE html>\\n<html lang=\"en-US\">\\n<head>'\n",
      "c2 9.05449366569519 '<!DOCTYPE html><html id=\"atomic\" class=\"No'\n",
      "c5 9.185077428817749 '<!DOCTYPE html><html id=\"atomic\" class=\"No'\n",
      "c3 9.287755489349365 '<!DOCTYPE html><html lang=\"en-US\" id=\"atom'\n",
      "c4 9.88003921508789 '<!DOCTYPE html><html lang=\"en-US\" id=\"atom'\n",
      "c1 10.160712718963623 '<!doctype html><html id=atomic class=\"Fz(6'\n",
      "c2 10.214203119277954 '<!doctype html><html id=atomic class=\"ltr '\n",
      "c5 10.330663681030273 '<!doctype html><html id=\"atomic\" class=\"No'\n",
      "c4 11.05069375038147 '<!doctype html><html id=\"atomic\" class=\"No'\n",
      "c1 11.315945863723755 '<!doctype html><html id=\"atomic\" class=\"No'\n",
      "c3 11.378404140472412 '<!doctype html><html id=\"atomic\" class=\"No'\n",
      "c5 11.54650592803955 '<!doctype html><html id=\"atomic\" class=\"No'\n",
      "c2 12.223116159439087 '<!doctype html><html id=\"atomic\" class=\"No'\n",
      "c4 12.696794986724854 '<!doctype html><html id=\"atomic\" class=\"No'\n",
      "c5 12.719029188156128 '<!doctype html><html id=\"atomic\" class=\"No'\n",
      "c1 12.83932113647461 '<!doctype html><html id=\"atomic\" class=\"No'\n",
      "c2 12.855315923690796 '<!DOCTYPE html><html id=\"atomic\" class=\"No'\n",
      "c3 13.367278575897217 '<!doctype html><html id=\"atomic\" class=\"No'\n",
      "c5 13.406121253967285 '<!DOCTYPE html><html id=\"atomic\" class=\"No'\n",
      "c4 13.672327280044556 '<!DOCTYPE html>\\n<html id=\"Stencil\" class=\"'\n",
      "c4 Consumer done\n",
      "c2 14.351567268371582 '<!DOCTYPE html><html id=\"atomic\" class=\"No'\n",
      "c2 Consumer done\n",
      "c1 15.660741329193115 '<!DOCTYPE html><html id=\"atomic\" class=\"No'\n",
      "c1 Consumer done\n",
      "c5 16.482361793518066 '<!DOCTYPE html><html id=\"atomic\" class=\"No'\n",
      "c5 Consumer done\n",
      "c3 16.755209922790527 '<!DOCTYPE html><html id=\"atomic\" class=\"No'\n",
      "c3 Consumer done\n",
      "final result '<?xml version=\"1.0\" encoding=\"UTF-8\" ?>\\r\\n<'\n",
      "final result '<!DOCTYPE html><html><head><meta http-equi'\n",
      "final result '\\r\\n<!DOCTYPE html>\\r\\n\\r\\n<html dir=\"ltr\" lang='\n",
      "final result '<!DOCTYPE html><html><head><meta http-equi'\n",
      "final result '<!DOCTYPE html><html><head><meta http-equi'\n",
      "final result '\\r\\n<html>\\r\\n    <head>\\r\\n        <title>Micro'\n",
      "final result '\\r\\n\\r\\n\\r\\n\\r\\n<!DOCTYPE html>\\r\\n<html lang=\"en-US'\n",
      "final result '\\ufeff<!DOCTYPE html><html lang=en-US><head><no'\n",
      "final result '<!doctype html> <html dir=\"ltr\" lang=\"en\">'\n",
      "final result '<!doctype html><html dir=\"rtl\" itemscope=\"'\n",
      "final result '<!doctype html> <html dir=\"ltr\" lang=\"en\">'\n",
      "final result '<!doctype html> <html dir=\"ltr\" lang=\"en\">'\n",
      "final result '<!DOCTYPE html><html style=\"font-size: 10p'\n",
      "final result '<!DOCTYPE html><html lang=\"en\"><head><meta'\n",
      "final result '<!doctype html><html lang=\"iw\" dir=\"rtl\"><'\n",
      "final result '<!doctype html><html lang=\"en-GB\" dir=\"ltr'\n",
      "final result '<!doctype html><html lang=\"en-US\" dir=\"ltr'\n",
      "final result '<!doctype html><html lang=\"en-US\" dir=\"ltr'\n",
      "final result '<!doctype html><html lang=\"iw\" dir=\"rtl\"><'\n",
      "final result '<!doctype html><html lang=\"iw\" dir=\"rtl\"><'\n",
      "final result '\\n\\n<!DOCTYPE html>\\n\\n\\n<html lang=\"en\" dir=\"l'\n",
      "final result '<!doctype html><html dir=\"rtl\" lang=\"ar-IL'\n",
      "final result '<!DOCTYPE html><html dir=\"rtl\" itemscope=\"'\n",
      "final result '<!DOCTYPE html>\\n<html class=\"google mmfb\" '\n",
      "final result '<!doctype html><html lang=\"en-IL\"><head><m'\n",
      "final result '<!doctype html><html dir=\"rtl\" itemscope=\"'\n",
      "final result '<!DOCTYPE html>\\n<html id=\"Stencil\" class=\"'\n",
      "final result '<!doctype html><html id=atomic class=\"ltr '\n",
      "final result '<!doctype html><html id=atomic class=\"Fz(6'\n",
      "final result '<!DOCTYPE html><html id=\"atomic\" class=\"No'\n",
      "final result '<!doctype html><html id=atomic class=\"Fz(6'\n",
      "final result '<!DOCTYPE html><html data-color-theme=\"lig'\n",
      "final result '<!DOCTYPE html>\\n<html lang=\"en-US\">\\n<head>'\n",
      "final result '<!DOCTYPE html><html id=\"atomic\" class=\"No'\n",
      "final result '<!doctype html><html lang=\"en-US\"><head><m'\n",
      "final result '<!DOCTYPE html><html id=\"atomic\" class=\"No'\n",
      "final result \"<html>\\n<meta charset='utf-8'>\\n<script>\\nvar\"\n",
      "final result '<!DOCTYPE html><html lang=\"en-US\" id=\"atom'\n",
      "final result '<!DOCTYPE html>\\n<html id=\"Stencil\" class=\"'\n",
      "final result '<!doctype html><html id=atomic class=\"ltr '\n",
      "final result '<!DOCTYPE html>\\n<html id=\"Stencil\" class=\"'\n",
      "final result '<!DOCTYPE html>\\n<html id=\"Stencil\" class=\"'\n",
      "final result '<!DOCTYPE html>\\n<html id=\"Stencil\" class=\"'\n",
      "final result '<!DOCTYPE html><html id=\"atomic\" class=\"No'\n",
      "final result '<!doctype html><html id=atomic class=\"Fz(6'\n",
      "final result '<!doctype html><html id=atomic class=\"Fz(6'\n",
      "final result '<!DOCTYPE html><html data-color-theme=\"lig'\n",
      "final result '<!doctype html><html id=atomic class=\"Fz(6'\n",
      "final result '<!DOCTYPE html>\\n<html lang=\"en-US\">\\n<head>'\n",
      "final result '<!DOCTYPE html><html id=\"atomic\" class=\"No'\n",
      "final result '<!DOCTYPE html><html id=\"atomic\" class=\"No'\n",
      "final result '<!DOCTYPE html><html lang=\"en-US\" id=\"atom'\n",
      "final result '<!DOCTYPE html><html lang=\"en-US\" id=\"atom'\n",
      "final result '<!doctype html><html id=atomic class=\"Fz(6'\n",
      "final result '<!doctype html><html id=atomic class=\"ltr '\n",
      "final result '<!doctype html><html id=\"atomic\" class=\"No'\n",
      "final result '<!doctype html><html id=\"atomic\" class=\"No'\n",
      "final result '<!doctype html><html id=\"atomic\" class=\"No'\n",
      "final result '<!doctype html><html id=\"atomic\" class=\"No'\n",
      "final result '<!doctype html><html id=\"atomic\" class=\"No'\n",
      "final result '<!doctype html><html id=\"atomic\" class=\"No'\n",
      "final result '<!doctype html><html id=\"atomic\" class=\"No'\n",
      "final result '<!doctype html><html id=\"atomic\" class=\"No'\n",
      "final result '<!doctype html><html id=\"atomic\" class=\"No'\n",
      "final result '<!DOCTYPE html><html id=\"atomic\" class=\"No'\n",
      "final result '<!doctype html><html id=\"atomic\" class=\"No'\n",
      "final result '<!DOCTYPE html><html id=\"atomic\" class=\"No'\n",
      "final result '<!DOCTYPE html>\\n<html id=\"Stencil\" class=\"'\n",
      "final result '<!DOCTYPE html><html id=\"atomic\" class=\"No'\n",
      "final result '<!DOCTYPE html><html id=\"atomic\" class=\"No'\n",
      "final result '<!DOCTYPE html><html id=\"atomic\" class=\"No'\n",
      "final result '<!DOCTYPE html><html id=\"atomic\" class=\"No'\n",
      "done\n"
     ]
    }
   ],
   "source": [
    "import threading\n",
    "import requests\n",
    "from queue import Queue\n",
    "from bs4 import BeautifulSoup\n",
    "\n",
    "def get_links_from_url(url):\n",
    "    resp = requests.get(url)\n",
    "    soup = BeautifulSoup(resp.text, \"html.parser\")\n",
    "    links = soup.find_all(\"a\")\n",
    "    for link in links:\n",
    "        if link.has_attr(\"href\"):\n",
    "            if \"http\" in link[\"href\"]:  \n",
    "                yield link[\"href\"]\n",
    "            elif link[\"href\"].startswith(\"//\"):\n",
    "                yield \"https:\" + link[\"href\"]\n",
    "\n",
    "len(list(get_links_from_url(\"https://www.google.com\")))\n",
    "\n",
    "\n",
    "\n",
    "import time\n",
    "\n",
    "\n",
    "class Producer(threading.Thread):\n",
    "    def __init__(self, name, url, q):\n",
    "        super().__init__()\n",
    "        self.name = name\n",
    "        self.url = url\n",
    "        self.q = q\n",
    "\n",
    "    def run(self):\n",
    "        links = get_links_from_url(self.url)\n",
    "        for link in links:\n",
    "            print(f\"{self.name} adding {link[:42]} to queue\")\n",
    "            self.q.put(link)\n",
    "        print(f\"{self.name} Producer done\")\n",
    "\n",
    "class Consumer(threading.Thread):\n",
    "    def __init__(self, name, qin, qout):\n",
    "        super().__init__()\n",
    "        self.name = name\n",
    "        self.qin = qin\n",
    "        self.qout = qout\n",
    "\n",
    "    def run(self):\n",
    "        start_time = time.time()\n",
    "        while True: \n",
    "            url = self.qin.get()\n",
    "            if not url:\n",
    "                print(f\"{self.name} Consumer done\")\n",
    "                break\n",
    "            res = requests.get(url).text[:42]\n",
    "            print(f\"{self.name} {time.time()-start_time} {repr(res)}\")\n",
    "            self.qout.put(res)\n",
    "\n",
    "\n",
    "\n",
    "\n",
    "\n",
    "qin = Queue()\n",
    "qout = Queue()\n",
    "\n",
    "urls = [\n",
    "    \"https://www.google.com\",\n",
    "    \"https://www.yahoo.com\",\n",
    "    \"https://www.bing.com\"\n",
    "]\n",
    "producers = []\n",
    "consumers = []\n",
    "num_of_consumers = 5\n",
    "\n",
    "for i, url in enumerate(urls):\n",
    "    p = Producer(\"p\"+str(i+1), url, qin)\n",
    "    p.start()\n",
    "    producers.append(p)\n",
    "\n",
    "for i in range(num_of_consumers):\n",
    "    c = Consumer(\"c\"+str(i+1), qin, qout)\n",
    "    c.start()\n",
    "    consumers.append(c)\n",
    "\n",
    "for p in producers:\n",
    "    p.join()\n",
    "\n",
    "for i in range(num_of_consumers):\n",
    "    qin.put(None)\n",
    "\n",
    "for c in consumers:\n",
    "    c.join()\n",
    "    \n",
    "while not qout.empty():\n",
    "    print(\"final result\", repr(qout.get()))\n",
    "print(\"done\")\n"
   ]
  },
  {
   "cell_type": "markdown",
   "metadata": {},
   "source": [
    "### Threadpool Executor"
   ]
  },
  {
   "cell_type": "code",
   "execution_count": 6,
   "metadata": {},
   "outputs": [
    {
     "name": "stdout",
     "output_type": "stream",
     "text": [
      "https://www.bing.com -> <!doctype html><html lang=\"he\" dir=\"rtl\"><\n",
      "\n",
      "https://www.google.com -> <!doctype html><html dir=\"rtl\" itemscope=\"\n",
      "\n",
      "https://www.yahoo.com -> <!doctype html><html id=atomic class=\"ltr \n",
      "\n",
      "https://www.bing.com -> <!doctype html><html lang=\"he\" dir=\"rtl\"><\n",
      "\n",
      "https://www.google.com -> <!doctype html><html dir=\"rtl\" itemscope=\"\n",
      "\n",
      "<!doctype html><html dir=\"rtl\" itemscope=\"\n",
      "https://www.yahoo.com -> <!doctype html><html id=atomic class=\"ltr \n",
      "\n",
      "<!doctype html><html id=atomic class=\"ltr \n",
      "<!doctype html><html lang=\"he\" dir=\"rtl\"><\n"
     ]
    }
   ],
   "source": [
    "from concurrent.futures import ThreadPoolExecutor\n",
    "\n",
    "with ThreadPoolExecutor(max_workers=5) as executor:\n",
    "    for url in urls:\n",
    "        executor.submit(get_page, url)\n",
    "        "
   ]
  },
  {
   "cell_type": "code",
   "execution_count": 8,
   "metadata": {},
   "outputs": [
    {
     "name": "stdout",
     "output_type": "stream",
     "text": [
      "https://www.bing.com -> <!doctype html><html lang=\"he\" dir=\"rtl\"><\n",
      "\n",
      "https://www.google.com -> <!doctype html><html dir=\"rtl\" itemscope=\"\n",
      "\n",
      "<!doctype html><html dir=\"rtl\" itemscope=\"\n",
      "https://www.yahoo.com -> <!doctype html><html id=atomic class=\"ltr \n",
      "\n",
      "<!doctype html><html id=atomic class=\"ltr \n",
      "<!doctype html><html lang=\"he\" dir=\"rtl\"><\n"
     ]
    }
   ],
   "source": [
    "from concurrent.futures import ThreadPoolExecutor\n",
    "\n",
    "with ThreadPoolExecutor(max_workers=5) as executor:\n",
    "    results = executor.map(get_page, urls)\n",
    "    for url in results:\n",
    "        print(url)"
   ]
  },
  {
   "cell_type": "markdown",
   "metadata": {},
   "source": [
    "### Multiprocessing"
   ]
  },
  {
   "cell_type": "code",
   "execution_count": 9,
   "metadata": {},
   "outputs": [
    {
     "name": "stdout",
     "output_type": "stream",
     "text": [
      "[0, 1, 4, 9, 16, 25, 36, 49, 64, 81]\n"
     ]
    }
   ],
   "source": [
    "import multiprocessing as mp\n",
    "import utils\n",
    "\n",
    "with mp.Pool(5) as pool:\n",
    "    print(pool.map(utils.f, range(10)))"
   ]
  },
  {
   "cell_type": "markdown",
   "metadata": {},
   "source": [
    "### Asyncio"
   ]
  },
  {
   "cell_type": "code",
   "execution_count": 66,
   "metadata": {},
   "outputs": [
    {
     "name": "stdout",
     "output_type": "stream",
     "text": [
      "['<!doctype html><html dir=\"rtl\" itemscope=\"', '<!DOCTYPE html><html dir=\"rtl\" itemscope=\"', '<!doctype html><html lang=\"iw\" dir=\"rtl\"><', '<!DOCTYPE html><html style=\"font-size: 10p', '<!doctype html><html lang=\"en-GB\" dir=\"ltr', '<!doctype html><html lang=\"en\" dir=\"ltr\"><', '<!doctype html><html lang=\"en\" dir=\"ltr\"><', '\\n\\n<!DOCTYPE html>\\n\\n\\n<html lang=\"en\" dir=\"l', '<!doctype html><html lang=\"iw\" dir=\"rtl\"><', '<!doctype html><html lang=\"iw\" dir=\"rtl\"><', '<!doctype html><html dir=\"rtl\" itemscope=\"', '<!doctype html><html itemscope=\"\" itemtype', '<!DOCTYPE html>\\n<html class=\"google mmfb\" ', '<!doctype html><html dir=\"rtl\" itemscope=\"']\n",
      "['<!doctype html><html id=atomic class=\"ltr ', '<!DOCTYPE html>\\n<html id=\"Stencil\" class=\"', '<!DOCTYPE html><html id=\"atomic\" class=\"No', '<!DOCTYPE html><html data-color-theme=\"lig', '<!DOCTYPE html><html id=\"atomic\" class=\"No', '<!doctype html><html id=atomic class=\"Fz(6', '<!doctype html><html id=atomic class=\"Fz(6', '<!doctype html><html lang=\"en-US\"><head><m', '<!DOCTYPE html><html lang=\"en-US\" id=\"atom', '<!DOCTYPE html>\\n<html lang=\"en-US\">\\n<head>', '<!DOCTYPE html><html id=\"atomic\" class=\"No', \"<html>\\n<meta charset='utf-8'>\\n<script>\\nvar\", '<!doctype html><html id=atomic class=\"ltr ', '<!DOCTYPE html>\\n<html id=\"Stencil\" class=\"', '<!DOCTYPE html>\\n<html id=\"Stencil\" class=\"', '<!DOCTYPE html>\\n<html id=\"Stencil\" class=\"', '<!DOCTYPE html>\\n<html id=\"Stencil\" class=\"', '<!DOCTYPE html><html id=\"atomic\" class=\"No', '<!DOCTYPE html><html data-color-theme=\"lig', '<!DOCTYPE html><html id=\"atomic\" class=\"No', '<!doctype html><html id=atomic class=\"Fz(6', '<!doctype html><html id=atomic class=\"Fz(6', '<!doctype html><html id=atomic class=\"Fz(6', '<!DOCTYPE html><html lang=\"en-US\" id=\"atom', '<!DOCTYPE html><html lang=\"en-US\" id=\"atom', '<!DOCTYPE html>\\n<html lang=\"en-US\">\\n<head>', '<!DOCTYPE html><html id=\"atomic\" class=\"No', '<!doctype html><html id=atomic class=\"Fz(6', '<!doctype html><html id=atomic class=\"ltr ', '<!doctype html><html id=\"atomic\" class=\"No', '<!doctype html><html id=\"atomic\" class=\"No', '<!doctype html><html id=\"atomic\" class=\"No', '<!doctype html><html id=\"atomic\" class=\"No', '<!doctype html><html id=\"atomic\" class=\"No', '<!doctype html><html id=\"atomic\" class=\"No', '<!doctype html><html id=\"atomic\" class=\"No', '<!doctype html><html id=\"atomic\" class=\"No', '<!doctype html><html id=\"atomic\" class=\"No', '<!doctype html><html id=\"atomic\" class=\"No', '<!DOCTYPE html><html id=\"atomic\" class=\"No', '<!DOCTYPE html>\\n<html id=\"Stencil\" class=\"', '<!DOCTYPE html><html id=\"atomic\" class=\"No', '<!DOCTYPE html><html id=\"atomic\" class=\"No', '<!DOCTYPE html><html id=\"atomic\" class=\"No', '<!DOCTYPE html><html id=\"atomic\" class=\"No', '<!DOCTYPE html><html id=\"atomic\" class=\"No']\n",
      "[]\n"
     ]
    }
   ],
   "source": [
    "import asyncio\n",
    "import aiohttp\n",
    "from bs4 import BeautifulSoup\n",
    "\n",
    "urls = [\n",
    "    \"https://www.google.com\",\n",
    "    \"https://www.yahoo.com\",\n",
    "    \"https://www.bing.com\"\n",
    "]\n",
    "\n",
    "async def get_page(url, session):\n",
    "    async with session.get(url) as resp:\n",
    "        result = await resp.text()\n",
    "        return result[:42]\n",
    "\n",
    "\n",
    "async def get_links(url, session):\n",
    "    \n",
    "    links = []\n",
    "    async with session.get(url) as resp:\n",
    "        soup = BeautifulSoup(await resp.text())\n",
    "        for link in soup.findAll('a'):\n",
    "            l = link.get('href')\n",
    "            if l is not None and l.startswith('http'):\n",
    "                links.append(l)\n",
    "    return links\n",
    "\n",
    "async def generate_links(url, session):\n",
    "    \n",
    "    async with session.get(url) as resp:\n",
    "        soup = BeautifulSoup(await resp.text())\n",
    "        for link in soup.findAll('a'):\n",
    "            l = link.get('href')\n",
    "            if l is not None and l.startswith('http'):\n",
    "                yield l\n",
    "\n",
    "async def generate_page(url, session):\n",
    "    async with session.get(url) as resp:\n",
    "        result = await resp.text()\n",
    "        yield result[:42]\n",
    "\n",
    "async with aiohttp.ClientSession() as session:\n",
    "    for result in await asyncio.gather(*(get_links(url, session) for url in urls)):\n",
    "        print(await asyncio.gather(*(get_page(url, session) for url in result)))\n"
   ]
  },
  {
   "cell_type": "markdown",
   "metadata": {},
   "source": [
    "#### Teacher Example"
   ]
  },
  {
   "cell_type": "code",
   "execution_count": null,
   "metadata": {},
   "outputs": [],
   "source": []
  },
  {
   "cell_type": "markdown",
   "metadata": {},
   "source": [
    "### Flask Example"
   ]
  },
  {
   "cell_type": "code",
   "execution_count": null,
   "metadata": {},
   "outputs": [],
   "source": []
  }
 ],
 "metadata": {
  "kernelspec": {
   "display_name": "Python 3.10.5 ('venv': venv)",
   "language": "python",
   "name": "python3"
  },
  "language_info": {
   "codemirror_mode": {
    "name": "ipython",
    "version": 3
   },
   "file_extension": ".py",
   "mimetype": "text/x-python",
   "name": "python",
   "nbconvert_exporter": "python",
   "pygments_lexer": "ipython3",
   "version": "3.10.5"
  },
  "orig_nbformat": 4,
  "vscode": {
   "interpreter": {
    "hash": "7b270dd0521dd3ecdf3ba38000a6b7108e45708287fc605baf0383562c4c79e5"
   }
  }
 },
 "nbformat": 4,
 "nbformat_minor": 2
}
